{
 "cells": [
  {
   "cell_type": "code",
   "execution_count": 27,
   "outputs": [
    {
     "name": "stderr",
     "output_type": "stream",
     "text": [
      "fatal: destination path 'python-mnist' already exists and is not an empty directory.\n"
     ]
    },
    {
     "name": "stdout",
     "output_type": "stream",
     "text": [
      "Defaulting to user installation because normal site-packages is not writeable\n",
      "Requirement already satisfied: emnist in c:\\users\\asus\\appdata\\roaming\\python\\python37\\site-packages (0.0)\n",
      "Requirement already satisfied: tqdm in c:\\users\\asus\\appdata\\roaming\\python\\python37\\site-packages (from emnist) (4.49.0)\n",
      "Requirement already satisfied: numpy in c:\\program files\\python37\\lib\\site-packages (from emnist) (1.16.4)\n",
      "Requirement already satisfied: requests in c:\\users\\asus\\appdata\\roaming\\python\\python37\\site-packages (from emnist) (2.24.0)\n",
      "Requirement already satisfied: chardet<4,>=3.0.2 in c:\\users\\asus\\appdata\\roaming\\python\\python37\\site-packages (from requests->emnist) (3.0.4)\n",
      "Requirement already satisfied: urllib3!=1.25.0,!=1.25.1,<1.26,>=1.21.1 in c:\\users\\asus\\appdata\\roaming\\python\\python37\\site-packages (from requests->emnist) (1.25.10)\n",
      "Requirement already satisfied: idna<3,>=2.5 in c:\\users\\asus\\appdata\\roaming\\python\\python37\\site-packages (from requests->emnist) (2.10)\n",
      "Requirement already satisfied: certifi>=2017.4.17 in c:\\users\\asus\\appdata\\roaming\\python\\python37\\site-packages (from requests->emnist) (2020.6.20)\n",
      "Imported the EMNIST libraries we need!\n"
     ]
    }
   ],
   "source": [
    "#@title\n",
    "# STEP 1.1\n",
    "\n",
    "!git clone https://github.com/sorki/python-mnist\n",
    "!.\\python-mnist\\bin\\mnist_get_data.sh\n",
    "!pip3 install emnist\n",
    "\n",
    "\n",
    "print(\"Imported the EMNIST libraries we need!\")"
   ],
   "metadata": {
    "collapsed": false,
    "pycharm": {
     "name": "#%%\n"
    }
   }
  },
  {
   "cell_type": "code",
   "execution_count": 129,
   "outputs": [],
   "source": [
    "from emnist import extract_training_samples\n",
    "\n",
    "X, y = extract_training_samples('letters')\n",
    "\n",
    "X = X / 255.\n",
    "\n",
    "X_train, X_test = X[:115000], X[115000:]\n",
    "y_train, y_test = y[:115000], y[115000:]\n",
    "\n",
    "X_train = X_train.reshape(115000,784)\n",
    "X_test = X_test.reshape(9800,784)\n"
   ],
   "metadata": {
    "collapsed": false,
    "pycharm": {
     "name": "#%%\n"
    }
   }
  },
  {
   "cell_type": "code",
   "execution_count": 85,
   "outputs": [
    {
     "name": "stdout",
     "output_type": "stream",
     "text": [
      "Image Label: u\n"
     ]
    },
    {
     "data": {
      "text/plain": "<matplotlib.image.AxesImage at 0x15a820c8be0>"
     },
     "execution_count": 85,
     "metadata": {},
     "output_type": "execute_result"
    },
    {
     "data": {
      "text/plain": "<Figure size 432x288 with 1 Axes>",
      "image/png": "[encoded data removed]"
     },
     "metadata": {
      "needs_background": "light"
     },
     "output_type": "display_data"
    }
   ],
   "source": [
    "import matplotlib.pyplot as plt\n",
    "img_index = 15\n",
    "img = X_train[img_index]\n",
    "print(\"Image Label: \" + str(chr(y_train[img_index]+96)))\n",
    "plt.imshow(img.reshape((28,28)))\n"
   ],
   "metadata": {
    "collapsed": false,
    "pycharm": {
     "name": "#%%\n"
    }
   }
  },
  {
   "cell_type": "code",
   "execution_count": 39,
   "outputs": [
    {
     "data": {
      "text/plain": "MLPClassifier(hidden_layer_sizes=(50,), learning_rate_init=0.1, max_iter=20,\n              random_state=1, solver='sgd', verbose=10)"
     },
     "execution_count": 39,
     "metadata": {},
     "output_type": "execute_result"
    }
   ],
   "source": [
    "from sklearn.datasets import fetch_openml\n",
    "from sklearn.neural_network import MLPClassifier\n",
    "mlp1 = MLPClassifier(hidden_layer_sizes=(50,), max_iter=20, alpha=1e-4,\n",
    "                    solver='sgd', verbose=10, tol=1e-4, random_state=1,\n",
    "                    learning_rate_init=.1)\n",
    "mlp1"
   ],
   "metadata": {
    "collapsed": false,
    "pycharm": {
     "name": "#%%\n"
    }
   }
  },
  {
   "cell_type": "code",
   "execution_count": 40,
   "outputs": [
    {
     "name": "stdout",
     "output_type": "stream",
     "text": [
      "Iteration 1, loss = 1.06351395\n",
      "Iteration 2, loss = 0.64844650\n",
      "Iteration 3, loss = 0.56103245\n",
      "Iteration 4, loss = 0.51987725\n",
      "Iteration 5, loss = 0.49182099\n",
      "Iteration 6, loss = 0.47301057\n",
      "Iteration 7, loss = 0.45839220\n",
      "Iteration 8, loss = 0.44603836\n",
      "Iteration 9, loss = 0.43479721\n",
      "Iteration 10, loss = 0.42809575\n",
      "Iteration 11, loss = 0.41639233\n",
      "Iteration 12, loss = 0.40782908\n",
      "Iteration 13, loss = 0.40548360\n",
      "Iteration 14, loss = 0.39965983\n",
      "Iteration 15, loss = 0.39296832\n",
      "Iteration 16, loss = 0.38883219\n",
      "Iteration 17, loss = 0.38393955\n",
      "Iteration 18, loss = 0.37948343\n",
      "Iteration 19, loss = 0.37307616\n",
      "Iteration 20, loss = 0.37166732\n",
      "Training set score: 0.886500\n",
      "Test set score: 0.840800\n"
     ]
    },
    {
     "name": "stderr",
     "output_type": "stream",
     "text": [
      "c:\\program files\\python37\\lib\\site-packages\\sklearn\\neural_network\\_multilayer_perceptron.py:585: ConvergenceWarning: Stochastic Optimizer: Maximum iterations (20) reached and the optimization hasn't converged yet.\n",
      "  % self.max_iter, ConvergenceWarning)\n"
     ]
    }
   ],
   "source": [
    "mlp1.fit(X_train, y_train)\n",
    "print(\"Training set score: %f\" % mlp1.score(X_train, y_train))\n",
    "print(\"Test set score: %f\" % mlp1.score(X_test, y_test))"
   ],
   "metadata": {
    "collapsed": false,
    "pycharm": {
     "name": "#%%\n"
    }
   }
  },
  {
   "cell_type": "code",
   "execution_count": 41,
   "outputs": [
    {
     "data": {
      "text/plain": "<matplotlib.image.AxesImage at 0x15a8013fbe0>"
     },
     "execution_count": 41,
     "metadata": {},
     "output_type": "execute_result"
    },
    {
     "data": {
      "text/plain": "<Figure size 288x288 with 1 Axes>",
      "image/png": "[encoded data removed]"
     },
     "metadata": {
      "needs_background": "light"
     },
     "output_type": "display_data"
    }
   ],
   "source": [
    "y_pred = mlp1.predict(X_test)\n",
    "\n",
    "from sklearn.metrics import confusion_matrix\n",
    "cm = confusion_matrix(y_test, y_pred)\n",
    "plt.matshow(cm)\n"
   ],
   "metadata": {
    "collapsed": false,
    "pycharm": {
     "name": "#%%\n"
    }
   }
  },
  {
   "cell_type": "code",
   "execution_count": 114,
   "outputs": [
    {
     "data": {
      "text/plain": "<matplotlib.image.AxesImage at 0x15a81fe5ba8>"
     },
     "execution_count": 114,
     "metadata": {},
     "output_type": "execute_result"
    },
    {
     "data": {
      "text/plain": "<Figure size 432x288 with 1 Axes>",
      "image/png": "[encoded data removed]"
     },
     "metadata": {
      "needs_background": "light"
     },
     "output_type": "display_data"
    }
   ],
   "source": [
    "actual_letter='o'\n",
    "example=[]\n",
    "for i in range(len(y_test)):\n",
    "    if(y_test[i] == (ord(actual_letter) - 96)):\n",
    "        example.append(i)\n",
    "example_number = 34\n",
    "img= X_test[example[example_number]]\n",
    "plt.imshow(img.reshape((28,28)))"
   ],
   "metadata": {
    "collapsed": false,
    "pycharm": {
     "name": "#%%\n"
    }
   }
  },
  {
   "cell_type": "code",
   "execution_count": 101,
   "outputs": [
    {
     "name": "stdout",
     "output_type": "stream",
     "text": [
      "There were 6 times that the letter a was predicted to be the letter b.\n"
     ]
    },
    {
     "data": {
      "text/plain": "<Figure size 432x288 with 1 Axes>",
      "image/png": "[encoded data removed]"
     },
     "metadata": {
      "needs_background": "light"
     },
     "output_type": "display_data"
    }
   ],
   "source": [
    "predicted_letter = 'b'\n",
    "actual_letter = 'a'\n",
    "\n",
    "mistake_list = []\n",
    "for i in range(len(y_test)):\n",
    "  if (y_test[i] == (ord(actual_letter) - 96) and y_pred[i] == (ord(predicted_letter) - 96)):\n",
    "    mistake_list.append(i)\n",
    "print(\"There were \" + str(len(mistake_list)) + \" times that the letter \" + actual_letter + \" was predicted to be the letter \" + predicted_letter + \".\")\n",
    "\n",
    "mistake_to_show = 3\n",
    "\n",
    "if (len(mistake_list)> mistake_to_show):\n",
    "  img = X_test[mistake_list[mistake_to_show]]\n",
    "  plt.imshow(img.reshape((28,28)))\n",
    "else:\n",
    "  print(\"Couldn't show mistake number \" + str(mistake_to_show + 1) + \" because there were only \" + str(len(mistake_list)) + \" mistakes to show!\")"
   ],
   "metadata": {
    "collapsed": false,
    "pycharm": {
     "name": "#%%\n"
    }
   }
  },
  {
   "cell_type": "code",
   "execution_count": 130,
   "outputs": [
    {
     "name": "stdout",
     "output_type": "stream",
     "text": [
      "Iteration 1, loss = 0.85506685\n",
      "Iteration 2, loss = 0.46084530\n",
      "Iteration 3, loss = 0.39081550\n",
      "Iteration 4, loss = 0.35977878\n",
      "Iteration 5, loss = 0.32918343\n",
      "Iteration 6, loss = 0.31202360\n",
      "Iteration 7, loss = 0.29555861\n",
      "Iteration 8, loss = 0.28590274\n",
      "Iteration 9, loss = 0.27264474\n",
      "Iteration 10, loss = 0.26588933\n",
      "Iteration 11, loss = 0.25706963\n",
      "Iteration 12, loss = 0.25124108\n",
      "Iteration 13, loss = 0.24724325\n",
      "Iteration 14, loss = 0.24244171\n",
      "Iteration 15, loss = 0.24151382\n",
      "Iteration 16, loss = 0.23757170\n",
      "Iteration 17, loss = 0.23116245\n",
      "Iteration 18, loss = 0.23075645\n",
      "Iteration 19, loss = 0.22431043\n",
      "Iteration 20, loss = 0.22400543\n",
      "Iteration 21, loss = 0.22139200\n",
      "Iteration 22, loss = 0.22327295\n",
      "Iteration 23, loss = 0.21775089\n",
      "Iteration 24, loss = 0.22138782\n",
      "Iteration 25, loss = 0.21577010\n",
      "Iteration 26, loss = 0.21112976\n",
      "Iteration 27, loss = 0.21033383\n",
      "Iteration 28, loss = 0.21605948\n",
      "Iteration 29, loss = 0.21480054\n",
      "Iteration 30, loss = 0.21296535\n",
      "Iteration 31, loss = 0.21166560\n",
      "Iteration 32, loss = 0.20520735\n",
      "Iteration 33, loss = 0.20756619\n",
      "Iteration 34, loss = 0.20628694\n",
      "Iteration 35, loss = 0.20691850\n",
      "Iteration 36, loss = 0.20750892\n",
      "Iteration 37, loss = 0.20724333\n",
      "Iteration 38, loss = 0.20481615\n",
      "Iteration 39, loss = 0.19911904\n",
      "Iteration 40, loss = 0.20540165\n",
      "Iteration 41, loss = 0.20497063\n",
      "Iteration 42, loss = 0.20775342\n",
      "Iteration 43, loss = 0.20446543\n",
      "Iteration 44, loss = 0.21383918\n",
      "Iteration 45, loss = 0.20179685\n",
      "Iteration 46, loss = 0.20132367\n",
      "Iteration 47, loss = 0.20444597\n",
      "Iteration 48, loss = 0.20891624\n",
      "Iteration 49, loss = 0.21110843\n",
      "Iteration 50, loss = 0.20417524\n",
      "Training loss did not improve more than tol=0.000100 for 10 consecutive epochs. Stopping.\n",
      "Training set score: 0.942061\n",
      "Test set score: 0.900204\n"
     ]
    }
   ],
   "source": [
    "mlp2 = MLPClassifier(hidden_layer_sizes=(100,100,100,100,100,), max_iter=50, alpha=1e-4,\n",
    "                    solver='sgd', verbose=10, tol=1e-4, random_state=1,\n",
    "                    learning_rate_init=.1)\n",
    "mlp2.fit(X_train, y_train)\n",
    "print(\"Training set score: %f\" % mlp2.score(X_train, y_train))\n",
    "print(\"Test set score: %f\" % mlp2.score(X_test, y_test))"
   ],
   "metadata": {
    "collapsed": false,
    "pycharm": {
     "name": "#%%\n"
    }
   }
  },
  {
   "cell_type": "code",
   "execution_count": 143,
   "outputs": [
    {
     "name": "stderr",
     "output_type": "stream",
     "text": [
      "fatal: destination path 'letritasAI' already exists and is not an empty directory.\n"
     ]
    }
   ],
   "source": [
    "!git clone https://github.com/DarukuFureinMasta/letritasAI\n",
    "\n",
    "import os\n",
    "path, dirs, files = next(os.walk(\"./letritasAI/ejemplosletras\"))\n",
    "files.sort()"
   ],
   "metadata": {
    "collapsed": false,
    "pycharm": {
     "name": "#%%\n"
    }
   }
  },
  {
   "cell_type": "code",
   "execution_count": 144,
   "outputs": [
    {
     "name": "stdout",
     "output_type": "stream",
     "text": [
      "Imágenes importadas\n"
     ]
    },
    {
     "data": {
      "text/plain": "<matplotlib.image.AxesImage at 0x15a820d41d0>"
     },
     "execution_count": 144,
     "metadata": {},
     "output_type": "execute_result"
    },
    {
     "data": {
      "text/plain": "<Figure size 432x288 with 1 Axes>",
      "image/png": "[encoded data removed]"
     },
     "metadata": {
      "needs_background": "light"
     },
     "output_type": "display_data"
    }
   ],
   "source": [
    "import cv2\n",
    "import matplotlib.pyplot as plt\n",
    "import numpy\n",
    "\n",
    "letras_ejemplo=[]\n",
    "for i in range(len(files)):\n",
    "    img=cv2.imread(\"./letritasAI/ejemplosletras/\"+files[i],cv2.IMREAD_GRAYSCALE)\n",
    "    img=cv2.bitwise_not(img)\n",
    "    letras_ejemplo.append(img)\n",
    "\n",
    "print(\"Imágenes importadas\")\n",
    "\n",
    "plt.imshow(letras_ejemplo[0])"
   ],
   "metadata": {
    "collapsed": false,
    "pycharm": {
     "name": "#%%\n"
    }
   }
  },
  {
   "cell_type": "code",
   "execution_count": 145,
   "outputs": [
    {
     "data": {
      "text/plain": "<matplotlib.image.AxesImage at 0x15a89344048>"
     },
     "execution_count": 145,
     "metadata": {},
     "output_type": "execute_result"
    },
    {
     "data": {
      "text/plain": "<Figure size 432x288 with 1 Axes>",
      "image/png": "[encoded data removed]"
     },
     "metadata": {
      "needs_background": "light"
     },
     "output_type": "display_data"
    }
   ],
   "source": [
    "letras_procesadas=[]\n",
    "\n",
    "for img in letras_ejemplo:\n",
    "    img=cv2.GaussianBlur(img,(7,7),0)\n",
    "\n",
    "    points = cv2.findNonZero(img)\n",
    "    x, y, w, h = cv2.boundingRect(points)\n",
    "    if (w > 0 and h > 0):\n",
    "        if w > h:\n",
    "            y = y - (w-h)//2\n",
    "            img = img[y:y+w, x:x+w]\n",
    "        else:\n",
    "          x = x - (h-w)//2\n",
    "          img = img[y:y+h, x:x+h]\n",
    "\n",
    "    img = cv2.resize(img, (28,28), interpolation = cv2.INTER_CUBIC)\n",
    "\n",
    "    img=img/255\n",
    "    img=img.reshape((28,28))\n",
    "    letras_procesadas.append(img)\n",
    "\n",
    "import  matplotlib.pyplot as plt\n",
    "plt.imshow(letras_procesadas[0])"
   ],
   "metadata": {
    "collapsed": false,
    "pycharm": {
     "name": "#%%\n"
    }
   }
  },
  {
   "cell_type": "code",
   "execution_count": 146,
   "outputs": [
    {
     "name": "stdout",
     "output_type": "stream",
     "text": [
      "ya está prro\n",
      "oscar estebwq\n"
     ]
    }
   ],
   "source": [
    "import numpy\n",
    "\n",
    "escritura=\"\"\n",
    "for letter in letras_procesadas:\n",
    "    total_pixel_value=0\n",
    "    for j in range(28):\n",
    "        for k in range(28):\n",
    "            total_pixel_value+=letter[j,k]\n",
    "    if total_pixel_value < 20:\n",
    "        escritura= escritura + \" \"\n",
    "    else:\n",
    "        single_item_array = (numpy.array(letter).reshape(1,784))\n",
    "        prediction = mlp2.predict(single_item_array)\n",
    "        escritura = escritura + str(chr(prediction[0]+96))\n",
    "\n",
    "print(\"ya está prro\")\n",
    "print(escritura)"
   ],
   "metadata": {
    "collapsed": false,
    "pycharm": {
     "name": "#%%\n"
    }
   }
  },
  {
   "cell_type": "code",
   "execution_count": 149,
   "outputs": [],
   "source": [
    "from sklearn import model_selection\n",
    "from sklearn.linear_model import LogisticRegression\n",
    "import pickle\n",
    "filename = 'finalized_model.sav'\n",
    "pickle.dump(mlp2, open(filename, 'wb'))"
   ],
   "metadata": {
    "collapsed": false,
    "pycharm": {
     "name": "#%%\n"
    }
   }
  },
  {
   "cell_type": "code",
   "execution_count": 151,
   "outputs": [
    {
     "name": "stdout",
     "output_type": "stream",
     "text": [
      "ya está prro\n",
      "oscar estebwq\n"
     ]
    }
   ],
   "source": [
    "mlp3=pickle.load(open(filename, 'rb'))\n",
    "import numpy\n",
    "\n",
    "escritura=\"\"\n",
    "for letter in letras_procesadas:\n",
    "    total_pixel_value=0\n",
    "    for j in range(28):\n",
    "        for k in range(28):\n",
    "            total_pixel_value+=letter[j,k]\n",
    "    if total_pixel_value < 20:\n",
    "        escritura= escritura + \" \"\n",
    "    else:\n",
    "        single_item_array = (numpy.array(letter).reshape(1,784))\n",
    "        prediction = mlp3.predict(single_item_array)\n",
    "        escritura = escritura + str(chr(prediction[0]+96))\n",
    "\n",
    "print(\"ya está prro\")\n",
    "print(escritura)\n"
   ],
   "metadata": {
    "collapsed": false,
    "pycharm": {
     "name": "#%%\n"
    }
   }
  }
 ],
 "metadata": {
  "kernelspec": {
   "display_name": "Python 3",
   "language": "python",
   "name": "python3"
  },
  "language_info": {
   "codemirror_mode": {
    "name": "ipython",
    "version": 2
   },
   "file_extension": ".py",
   "mimetype": "text/x-python",
   "name": "python",
   "nbconvert_exporter": "python",
   "pygments_lexer": "ipython2",
   "version": "2.7.6"
  }
 },
 "nbformat": 4,
 "nbformat_minor": 0
}